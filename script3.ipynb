{
 "cells": [
  {
   "cell_type": "code",
   "execution_count": 2,
   "metadata": {},
   "outputs": [],
   "source": [
    "import h5py\n",
    "import scipy.io"
   ]
  },
  {
   "cell_type": "code",
   "execution_count": 3,
   "metadata": {},
   "outputs": [],
   "source": [
    "path = r\"C:\\Users\\alkrd\\Desktop\\graduation_project\\data.mat\""
   ]
  },
  {
   "cell_type": "code",
   "execution_count": 4,
   "metadata": {},
   "outputs": [],
   "source": [
    "def extract_keys(data_group):\n",
    "    with h5py.File(path, 'r') as f:\n",
    "        keys = []\n",
    "        data_group = f['Data']\n",
    "        print(data_group)\n",
    "        for key in data_group.keys():\n",
    "            print(\"key:\", key)\n",
    "            keys.append(key)\n",
    "            return keys\n",
    "def extract_types(data_group,keys=[]):\n",
    "        count = keys.count\n",
    "        for i in range(count):\n",
    "            if isinstance(data_group[keys[i]], h5py.Dataset):\n",
    "                print(keys[i] + \" is a dataset.\")\n",
    "        \n",
    "\n"
   ]
  },
  {
   "cell_type": "code",
   "execution_count": null,
   "metadata": {},
   "outputs": [],
   "source": [
    "\n",
    "with h5py.File(path, 'r') as f:\n",
    "    data_group = f['Data']\n",
    "keys = extract_keys(data_group)\n",
    "extract_types(data_group,keys)\n",
    "\n",
    "for key in keys:\n",
    "    if isinstance(data_group[key], h5py.Dataset):\n",
    "        print(key + \" is a dataset.\")\n",
    "        references = data_group[key][3:6]\n",
    "        print(references)\n",
    "        dereferenced_output = [f[obj_ref] for obj_ref in references.flatten()]\n",
    "        print(dereferenced_output)\n",
    "        print('-----------------')\n",
    "\n",
    "\n"
   ]
  }
 ],
 "metadata": {
  "kernelspec": {
   "display_name": "Python 3",
   "language": "python",
   "name": "python3"
  },
  "language_info": {
   "codemirror_mode": {
    "name": "ipython",
    "version": 3
   },
   "file_extension": ".py",
   "mimetype": "text/x-python",
   "name": "python",
   "nbconvert_exporter": "python",
   "pygments_lexer": "ipython3",
   "version": "3.11.1"
  }
 },
 "nbformat": 4,
 "nbformat_minor": 2
}
