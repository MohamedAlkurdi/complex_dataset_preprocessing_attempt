{
 "cells": [
  {
   "cell_type": "code",
   "execution_count": 1,
   "metadata": {},
   "outputs": [],
   "source": [
    "import h5py\n",
    "import scipy.io"
   ]
  },
  {
   "cell_type": "code",
   "execution_count": 2,
   "metadata": {},
   "outputs": [],
   "source": [
    "path = r\"C:\\Users\\alkrd\\Desktop\\graduation_project\\data.mat\""
   ]
  },
  {
   "cell_type": "code",
   "execution_count": 3,
   "metadata": {},
   "outputs": [
    {
     "name": "stdout",
     "output_type": "stream",
     "text": [
      "key: questionnaires\n",
      "questionnaires is a dataset.\n",
      "key: subject_info\n",
      "subject_info is a dataset.\n",
      "key: video\n",
      "video is a dataset.\n"
     ]
    }
   ],
   "source": [
    "with h5py.File(path, 'r') as f:\n",
    "    data_group = f['Data']\n",
    "    for key in data_group.keys():\n",
    "        print(\"key:\", key)\n",
    "\n",
    "        if isinstance(data_group[key], h5py.Dataset):\n",
    "            print(key + \" is a dataset.\")\n",
    "            questionnaires = data_group[\"questionnaires\"][:]"
   ]
  },
  {
   "cell_type": "code",
   "execution_count": 4,
   "metadata": {},
   "outputs": [
    {
     "name": "stdout",
     "output_type": "stream",
     "text": [
      "key: questionnaires\n",
      "questionnaires is a dataset.\n",
      "[[<HDF5 object reference>]\n",
      " [<HDF5 object reference>]\n",
      " [<HDF5 object reference>]]\n",
      "-----------------\n",
      "key: subject_info\n",
      "subject_info is a dataset.\n",
      "[[<HDF5 object reference>]\n",
      " [<HDF5 object reference>]\n",
      " [<HDF5 object reference>]]\n",
      "-----------------\n",
      "key: video\n",
      "video is a dataset.\n",
      "[[<HDF5 object reference>]\n",
      " [<HDF5 object reference>]\n",
      " [<HDF5 object reference>]]\n",
      "-----------------\n"
     ]
    }
   ],
   "source": [
    "\n",
    "\n",
    "with h5py.File(path, 'r') as f:\n",
    "    # print(f)\n",
    "    data_group = f['Data']\n",
    "    for key in data_group.keys():\n",
    "        print(\"key:\", key)\n",
    "\n",
    "        if isinstance(data_group[key], h5py.Dataset):\n",
    "            print(key + \" is a dataset.\")\n",
    "            references = data_group[key][3:6]\n",
    "            print(references)\n",
    "            # dereferenced_output = [f[obj_ref] for obj_ref in references.flatten()]\n",
    "            # print(dereferenced_output)\n",
    "            print('-----------------')\n",
    "#             references = data_group[key][3:6]\n",
    "#             dereferenced_output = [f[obj_ref] for obj_ref in references.flatten()]\n",
    "#             for obj in dereferenced_output:\n",
    "#                 if isinstance(obj, h5py.Dataset):\n",
    "#                     print(obj[2]) \n",
    "        \n",
    "            # dereferenced_obj = f[ref[0]]\n",
    "            # print(dereferenced_obj)\n",
    "            # if isinstance(dereferenced_obj, h5py.Dataset):\n",
    "                # data = dereferenced_obj[:]\n",
    "                # print(data)\n",
    "\n",
    "\n",
    "\n"
   ]
  }
 ],
 "metadata": {
  "kernelspec": {
   "display_name": "Python 3",
   "language": "python",
   "name": "python3"
  },
  "language_info": {
   "codemirror_mode": {
    "name": "ipython",
    "version": 3
   },
   "file_extension": ".py",
   "mimetype": "text/x-python",
   "name": "python",
   "nbconvert_exporter": "python",
   "pygments_lexer": "ipython3",
   "version": "3.11.1"
  }
 },
 "nbformat": 4,
 "nbformat_minor": 2
}
