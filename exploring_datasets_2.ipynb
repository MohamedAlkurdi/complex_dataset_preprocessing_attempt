{
 "cells": [
  {
   "cell_type": "code",
   "execution_count": 1,
   "metadata": {},
   "outputs": [],
   "source": [
    "import h5py\n",
    "import scipy.io"
   ]
  },
  {
   "cell_type": "code",
   "execution_count": 2,
   "metadata": {},
   "outputs": [],
   "source": [
    "path = r\"C:\\Users\\alkrd\\Desktop\\graduation_project\\data.mat\""
   ]
  },
  {
   "cell_type": "code",
   "execution_count": 45,
   "metadata": {},
   "outputs": [],
   "source": [
    "# with h5py.File(path, 'r') as f:\n",
    "#     # List all variable names\n",
    "#     variable_names = list(f.keys())\n",
    "#     print(variable_names)\n",
    "# output: ['#refs#', '#subsystem#', 'Data']\n",
    "\n",
    "\n",
    "# with h5py.File(path, 'r') as f:\n",
    "#     data = f['Data']\n",
    "#     print(\"shape:\", data.shape)\n",
    "#     print(\"data type:\", data.dtype)\n",
    "#     print(\"sample data:\", data)\n",
    "# error: AttributeError: 'Group' object has no attribute 'shape'\n",
    "\n",
    "\n",
    "\n",
    "# with h5py.File(path, 'r') as f:\n",
    "#     data_group = f['Data']\n",
    "#     for key in data_group.keys():\n",
    "#         print(\"key:\", key)\n",
    "\n",
    "#         if isinstance(data_group['questionnaires'], h5py.Dataset):\n",
    "#             print(\"'questionnaires' is a dataset.\")\n",
    "#             questionnaires = data_group['questionnaires'][:]\n",
    "        \n",
    "#         # Dereference each object reference\n",
    "#         for ref in questionnaires:\n",
    "#             dereferenced_obj = f[ref[0]]\n",
    "#             print(dereferenced_obj)\n",
    "#             # If the dereferenced object is a dataset, you can access its data\n",
    "#             if isinstance(dereferenced_obj, h5py.Dataset):\n",
    "#                 data = dereferenced_obj[:]\n",
    "#                 print(data)\n",
    "\n",
    "\n"
   ]
  },
  {
   "cell_type": "code",
   "execution_count": 8,
   "metadata": {},
   "outputs": [
    {
     "name": "stdout",
     "output_type": "stream",
     "text": [
      "key: questionnaires\n",
      "questionnaires is a dataset.\n",
      "[[<HDF5 object reference>]\n",
      " [<HDF5 object reference>]\n",
      " [<HDF5 object reference>]]\n",
      "key: subject_info\n",
      "subject_info is a dataset.\n",
      "[[<HDF5 object reference>]\n",
      " [<HDF5 object reference>]\n",
      " [<HDF5 object reference>]]\n",
      "key: video\n",
      "video is a dataset.\n",
      "[[<HDF5 object reference>]\n",
      " [<HDF5 object reference>]\n",
      " [<HDF5 object reference>]]\n"
     ]
    }
   ],
   "source": [
    "\n",
    "\n",
    "with h5py.File(path, 'r') as f:\n",
    "    data_group = f['Data']\n",
    "    for key in data_group.keys():\n",
    "        print(\"key:\", key)\n",
    "\n",
    "        if isinstance(data_group[key], h5py.Dataset):\n",
    "            print(key + \" is a dataset.\")\n",
    "            output = data_group[key][7:10]\n",
    "            print(output)\n",
    "            dereferenced_output = [f[obj_ref] for obj_ref in output]\n",
    "            for obj in dereferenced_output:\n",
    "                print(obj[:])\n",
    "        \n",
    "        # Dereference each object reference\n",
    "        # for ref in questionnaires:\n",
    "            # dereferenced_obj = f[ref[0]]\n",
    "            # print(dereferenced_obj)\n",
    "            # If the dereferenced object is a dataset, you can access its data\n",
    "            # if isinstance(dereferenced_obj, h5py.Dataset):\n",
    "                # data = dereferenced_obj[:]\n",
    "                # print(data)\n",
    "\n",
    "\n"
   ]
  }
 ],
 "metadata": {
  "kernelspec": {
   "display_name": "Python 3",
   "language": "python",
   "name": "python3"
  },
  "language_info": {
   "codemirror_mode": {
    "name": "ipython",
    "version": 3
   },
   "file_extension": ".py",
   "mimetype": "text/x-python",
   "name": "python",
   "nbconvert_exporter": "python",
   "pygments_lexer": "ipython3",
   "version": "3.11.1"
  }
 },
 "nbformat": 4,
 "nbformat_minor": 2
}
