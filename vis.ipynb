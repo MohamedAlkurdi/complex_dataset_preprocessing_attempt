{
 "cells": [
  {
   "cell_type": "code",
   "execution_count": 3,
   "metadata": {},
   "outputs": [
    {
     "name": "stdout",
     "output_type": "stream",
     "text": [
      "<module 'numpy' from 'c:\\\\Users\\\\alkrd\\\\AppData\\\\Local\\\\Programs\\\\Python\\\\Python311\\\\Lib\\\\site-packages\\\\numpy\\\\__init__.py'>\n",
      "<KeysViewHDF5 ['#refs#', '#subsystem#', 'Data']>\n"
     ]
    }
   ],
   "source": [
    "import h5py\n",
    "import numpy \n",
    "\n",
    "np = numpy\n",
    "print(np)\n",
    "\n",
    "\n",
    "# path = r\"C:\\Users\\alkrd\\Desktop\\graduation_project\\data.mat\"\n",
    "path = r\"C:\\Users\\alkrd\\Desktop\\graduation_project\\eSEEd_v2\\data_v2.mat\"\n",
    "\n",
    "with h5py.File(path, 'r') as f:\n",
    "    print(f.keys())\n"
   ]
  },
  {
   "cell_type": "code",
   "execution_count": null,
   "metadata": {},
   "outputs": [],
   "source": []
  }
 ],
 "metadata": {
  "kernelspec": {
   "display_name": "Python 3",
   "language": "python",
   "name": "python3"
  },
  "language_info": {
   "codemirror_mode": {
    "name": "ipython",
    "version": 3
   },
   "file_extension": ".py",
   "mimetype": "text/x-python",
   "name": "python",
   "nbconvert_exporter": "python",
   "pygments_lexer": "ipython3",
   "version": "3.11.1"
  }
 },
 "nbformat": 4,
 "nbformat_minor": 2
}
