{
 "cells": [
  {
   "cell_type": "code",
   "execution_count": 1,
   "metadata": {},
   "outputs": [],
   "source": [
    "import scipy.io"
   ]
  },
  {
   "cell_type": "code",
   "execution_count": 2,
   "metadata": {},
   "outputs": [],
   "source": [
    "# try:\n",
    "#     with h5py.File(path, 'r') as f:\n",
    "#         print(\"Keys: %s\" % list(f.keys()))\n",
    "# except OSError as e:\n",
    "#     print(f\"Error: {e}\")\n",
    "# mat = scipy.io.loadmat(path, variable_names=['n'])\n",
    "# print(mat)\n",
    "# mat_contents = scipy.io.whosmat(path)\n",
    "# print(\"Variable names and details:\", mat_contents)\n",
    "# mat = scipy.io.loadmat(path, variable_names=['p'])\n",
    "# print(mat['p'])"
   ]
  }
 ],
 "metadata": {
  "kernelspec": {
   "display_name": "Python 3",
   "language": "python",
   "name": "python3"
  },
  "language_info": {
   "codemirror_mode": {
    "name": "ipython",
    "version": 3
   },
   "file_extension": ".py",
   "mimetype": "text/x-python",
   "name": "python",
   "nbconvert_exporter": "python",
   "pygments_lexer": "ipython3",
   "version": "3.11.1"
  }
 },
 "nbformat": 4,
 "nbformat_minor": 2
}
